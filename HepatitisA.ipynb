{
  "nbformat": 4,
  "nbformat_minor": 0,
  "metadata": {
    "colab": {
      "name": "HepatitisA.ipynb",
      "provenance": [],
      "collapsed_sections": []
    },
    "kernelspec": {
      "name": "python3",
      "display_name": "Python 3"
    }
  },
  "cells": [
    {
      "cell_type": "code",
      "metadata": {
        "id": "AfUa5Y6dATW6"
      },
      "source": [
        "import pandas as pd\n",
        "import numpy as np\n",
        "import seaborn as sns\n",
        "import matplotlib.pyplot as plt\n",
        "%matplotlib inline"
      ],
      "execution_count": null,
      "outputs": []
    },
    {
      "cell_type": "code",
      "metadata": {
        "id": "hb4EV3SACnQa",
        "colab": {
          "resources": {
            "http://localhost:8080/nbextensions/google.colab/files.js": {
              "data": "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",
              "ok": true,
              "headers": [
                [
                  "content-type",
                  "application/javascript"
                ]
              ],
              "status": 200,
              "status_text": ""
            }
          },
          "base_uri": "https://localhost:8080/",
          "height": 73
        },
        "outputId": "68fa1d5a-4429-4a5e-ece0-7c7d210e2138"
      },
      "source": [
        "from google.colab import files\n",
        "uploaded = files.upload()\n",
        "import io\n",
        "dataset = pd.read_csv(io.BytesIO(uploaded['final_hepadata.csv']))\n"
      ],
      "execution_count": null,
      "outputs": [
        {
          "output_type": "display_data",
          "data": {
            "text/html": [
              "\n",
              "     <input type=\"file\" id=\"files-bed34d0c-17e6-423a-b5df-0861ab4920a4\" name=\"files[]\" multiple disabled\n",
              "        style=\"border:none\" />\n",
              "     <output id=\"result-bed34d0c-17e6-423a-b5df-0861ab4920a4\">\n",
              "      Upload widget is only available when the cell has been executed in the\n",
              "      current browser session. Please rerun this cell to enable.\n",
              "      </output>\n",
              "      <script src=\"/nbextensions/google.colab/files.js\"></script> "
            ],
            "text/plain": [
              "<IPython.core.display.HTML object>"
            ]
          },
          "metadata": {
            "tags": []
          }
        },
        {
          "output_type": "stream",
          "text": [
            "Saving final_hepadata.csv to final_hepadata.csv\n"
          ],
          "name": "stdout"
        }
      ]
    },
    {
      "cell_type": "code",
      "metadata": {
        "id": "cho69ePyH2jX",
        "colab": {
          "base_uri": "https://localhost:8080/",
          "height": 195
        },
        "outputId": "35ce85c1-6e03-4f4f-e3b6-753464109e9b"
      },
      "source": [
        "df = dataset.copy()\n",
        "df = pd.DataFrame(df)\n",
        "df.head()"
      ],
      "execution_count": null,
      "outputs": [
        {
          "output_type": "execute_result",
          "data": {
            "text/html": [
              "<div>\n",
              "<style scoped>\n",
              "    .dataframe tbody tr th:only-of-type {\n",
              "        vertical-align: middle;\n",
              "    }\n",
              "\n",
              "    .dataframe tbody tr th {\n",
              "        vertical-align: top;\n",
              "    }\n",
              "\n",
              "    .dataframe thead th {\n",
              "        text-align: right;\n",
              "    }\n",
              "</style>\n",
              "<table border=\"1\" class=\"dataframe\">\n",
              "  <thead>\n",
              "    <tr style=\"text-align: right;\">\n",
              "      <th></th>\n",
              "      <th>Month</th>\n",
              "      <th>Year</th>\n",
              "      <th>Total_TA</th>\n",
              "      <th>PA</th>\n",
              "    </tr>\n",
              "  </thead>\n",
              "  <tbody>\n",
              "    <tr>\n",
              "      <th>0</th>\n",
              "      <td>1</td>\n",
              "      <td>2013</td>\n",
              "      <td>118</td>\n",
              "      <td>9</td>\n",
              "    </tr>\n",
              "    <tr>\n",
              "      <th>1</th>\n",
              "      <td>2</td>\n",
              "      <td>2013</td>\n",
              "      <td>110</td>\n",
              "      <td>3</td>\n",
              "    </tr>\n",
              "    <tr>\n",
              "      <th>2</th>\n",
              "      <td>3</td>\n",
              "      <td>2013</td>\n",
              "      <td>144</td>\n",
              "      <td>0</td>\n",
              "    </tr>\n",
              "    <tr>\n",
              "      <th>3</th>\n",
              "      <td>4</td>\n",
              "      <td>2013</td>\n",
              "      <td>112</td>\n",
              "      <td>1</td>\n",
              "    </tr>\n",
              "    <tr>\n",
              "      <th>4</th>\n",
              "      <td>5</td>\n",
              "      <td>2013</td>\n",
              "      <td>166</td>\n",
              "      <td>3</td>\n",
              "    </tr>\n",
              "  </tbody>\n",
              "</table>\n",
              "</div>"
            ],
            "text/plain": [
              "   Month  Year  Total_TA  PA\n",
              "0      1  2013       118   9\n",
              "1      2  2013       110   3\n",
              "2      3  2013       144   0\n",
              "3      4  2013       112   1\n",
              "4      5  2013       166   3"
            ]
          },
          "metadata": {
            "tags": []
          },
          "execution_count": 4
        }
      ]
    },
    {
      "cell_type": "code",
      "metadata": {
        "id": "HTL-wD0-KeN_",
        "colab": {
          "base_uri": "https://localhost:8080/",
          "height": 252
        },
        "outputId": "fadfb447-c9d6-4c21-d407-b863f7ccc865"
      },
      "source": [
        "gp = df.groupby([\"Month\"])[\"PA\"].sum()\n",
        "gp"
      ],
      "execution_count": null,
      "outputs": [
        {
          "output_type": "execute_result",
          "data": {
            "text/plain": [
              "Month\n",
              "1     41\n",
              "2     51\n",
              "3     33\n",
              "4     30\n",
              "5     21\n",
              "6     69\n",
              "7     77\n",
              "8     93\n",
              "9     50\n",
              "10    37\n",
              "11    69\n",
              "12    55\n",
              "Name: PA, dtype: int64"
            ]
          },
          "metadata": {
            "tags": []
          },
          "execution_count": 5
        }
      ]
    },
    {
      "cell_type": "code",
      "metadata": {
        "id": "-QuYe_-BKpsT"
      },
      "source": [
        "df['mnth_sin'] = np.sin((df.Month-1)*(2.*np.pi/12))\n",
        "df['mnth_cos'] = np.cos((df.Month-1)*(2.*np.pi/12))"
      ],
      "execution_count": null,
      "outputs": []
    },
    {
      "cell_type": "code",
      "metadata": {
        "id": "SxAzpYTvMuuA",
        "colab": {
          "base_uri": "https://localhost:8080/",
          "height": 195
        },
        "outputId": "436ef5dd-da53-4247-d613-cbb0e736e3fa"
      },
      "source": [
        "df.head()"
      ],
      "execution_count": null,
      "outputs": [
        {
          "output_type": "execute_result",
          "data": {
            "text/html": [
              "<div>\n",
              "<style scoped>\n",
              "    .dataframe tbody tr th:only-of-type {\n",
              "        vertical-align: middle;\n",
              "    }\n",
              "\n",
              "    .dataframe tbody tr th {\n",
              "        vertical-align: top;\n",
              "    }\n",
              "\n",
              "    .dataframe thead th {\n",
              "        text-align: right;\n",
              "    }\n",
              "</style>\n",
              "<table border=\"1\" class=\"dataframe\">\n",
              "  <thead>\n",
              "    <tr style=\"text-align: right;\">\n",
              "      <th></th>\n",
              "      <th>Month</th>\n",
              "      <th>Year</th>\n",
              "      <th>Total_TA</th>\n",
              "      <th>PA</th>\n",
              "      <th>mnth_sin</th>\n",
              "      <th>mnth_cos</th>\n",
              "    </tr>\n",
              "  </thead>\n",
              "  <tbody>\n",
              "    <tr>\n",
              "      <th>0</th>\n",
              "      <td>1</td>\n",
              "      <td>2013</td>\n",
              "      <td>118</td>\n",
              "      <td>9</td>\n",
              "      <td>0.000000</td>\n",
              "      <td>1.000000e+00</td>\n",
              "    </tr>\n",
              "    <tr>\n",
              "      <th>1</th>\n",
              "      <td>2</td>\n",
              "      <td>2013</td>\n",
              "      <td>110</td>\n",
              "      <td>3</td>\n",
              "      <td>0.500000</td>\n",
              "      <td>8.660254e-01</td>\n",
              "    </tr>\n",
              "    <tr>\n",
              "      <th>2</th>\n",
              "      <td>3</td>\n",
              "      <td>2013</td>\n",
              "      <td>144</td>\n",
              "      <td>0</td>\n",
              "      <td>0.866025</td>\n",
              "      <td>5.000000e-01</td>\n",
              "    </tr>\n",
              "    <tr>\n",
              "      <th>3</th>\n",
              "      <td>4</td>\n",
              "      <td>2013</td>\n",
              "      <td>112</td>\n",
              "      <td>1</td>\n",
              "      <td>1.000000</td>\n",
              "      <td>6.123234e-17</td>\n",
              "    </tr>\n",
              "    <tr>\n",
              "      <th>4</th>\n",
              "      <td>5</td>\n",
              "      <td>2013</td>\n",
              "      <td>166</td>\n",
              "      <td>3</td>\n",
              "      <td>0.866025</td>\n",
              "      <td>-5.000000e-01</td>\n",
              "    </tr>\n",
              "  </tbody>\n",
              "</table>\n",
              "</div>"
            ],
            "text/plain": [
              "   Month  Year  Total_TA  PA  mnth_sin      mnth_cos\n",
              "0      1  2013       118   9  0.000000  1.000000e+00\n",
              "1      2  2013       110   3  0.500000  8.660254e-01\n",
              "2      3  2013       144   0  0.866025  5.000000e-01\n",
              "3      4  2013       112   1  1.000000  6.123234e-17\n",
              "4      5  2013       166   3  0.866025 -5.000000e-01"
            ]
          },
          "metadata": {
            "tags": []
          },
          "execution_count": 7
        }
      ]
    },
    {
      "cell_type": "code",
      "metadata": {
        "id": "o-VSNAwCM0uq",
        "colab": {
          "base_uri": "https://localhost:8080/",
          "height": 225
        },
        "outputId": "3dab1ae6-daea-4d59-9282-5e0ced6d7ef1"
      },
      "source": [
        "df.corr(method = 'pearson')"
      ],
      "execution_count": null,
      "outputs": [
        {
          "output_type": "execute_result",
          "data": {
            "text/html": [
              "<div>\n",
              "<style scoped>\n",
              "    .dataframe tbody tr th:only-of-type {\n",
              "        vertical-align: middle;\n",
              "    }\n",
              "\n",
              "    .dataframe tbody tr th {\n",
              "        vertical-align: top;\n",
              "    }\n",
              "\n",
              "    .dataframe thead th {\n",
              "        text-align: right;\n",
              "    }\n",
              "</style>\n",
              "<table border=\"1\" class=\"dataframe\">\n",
              "  <thead>\n",
              "    <tr style=\"text-align: right;\">\n",
              "      <th></th>\n",
              "      <th>Month</th>\n",
              "      <th>Year</th>\n",
              "      <th>Total_TA</th>\n",
              "      <th>PA</th>\n",
              "      <th>mnth_sin</th>\n",
              "      <th>mnth_cos</th>\n",
              "    </tr>\n",
              "  </thead>\n",
              "  <tbody>\n",
              "    <tr>\n",
              "      <th>Month</th>\n",
              "      <td>1.000000</td>\n",
              "      <td>0.000000e+00</td>\n",
              "      <td>0.290025</td>\n",
              "      <td>0.208276</td>\n",
              "      <td>-7.644607e-01</td>\n",
              "      <td>-2.048366e-01</td>\n",
              "    </tr>\n",
              "    <tr>\n",
              "      <th>Year</th>\n",
              "      <td>0.000000</td>\n",
              "      <td>1.000000e+00</td>\n",
              "      <td>0.581854</td>\n",
              "      <td>0.567759</td>\n",
              "      <td>2.220446e-17</td>\n",
              "      <td>-1.480297e-17</td>\n",
              "    </tr>\n",
              "    <tr>\n",
              "      <th>Total_TA</th>\n",
              "      <td>0.290025</td>\n",
              "      <td>5.818540e-01</td>\n",
              "      <td>1.000000</td>\n",
              "      <td>0.651199</td>\n",
              "      <td>-1.648947e-01</td>\n",
              "      <td>-2.313191e-01</td>\n",
              "    </tr>\n",
              "    <tr>\n",
              "      <th>PA</th>\n",
              "      <td>0.208276</td>\n",
              "      <td>5.677591e-01</td>\n",
              "      <td>0.651199</td>\n",
              "      <td>1.000000</td>\n",
              "      <td>-2.352978e-01</td>\n",
              "      <td>-2.100478e-01</td>\n",
              "    </tr>\n",
              "    <tr>\n",
              "      <th>mnth_sin</th>\n",
              "      <td>-0.764461</td>\n",
              "      <td>2.220446e-17</td>\n",
              "      <td>-0.164895</td>\n",
              "      <td>-0.235298</td>\n",
              "      <td>1.000000e+00</td>\n",
              "      <td>6.846375e-17</td>\n",
              "    </tr>\n",
              "    <tr>\n",
              "      <th>mnth_cos</th>\n",
              "      <td>-0.204837</td>\n",
              "      <td>-1.480297e-17</td>\n",
              "      <td>-0.231319</td>\n",
              "      <td>-0.210048</td>\n",
              "      <td>6.846375e-17</td>\n",
              "      <td>1.000000e+00</td>\n",
              "    </tr>\n",
              "  </tbody>\n",
              "</table>\n",
              "</div>"
            ],
            "text/plain": [
              "             Month          Year  ...      mnth_sin      mnth_cos\n",
              "Month     1.000000  0.000000e+00  ... -7.644607e-01 -2.048366e-01\n",
              "Year      0.000000  1.000000e+00  ...  2.220446e-17 -1.480297e-17\n",
              "Total_TA  0.290025  5.818540e-01  ... -1.648947e-01 -2.313191e-01\n",
              "PA        0.208276  5.677591e-01  ... -2.352978e-01 -2.100478e-01\n",
              "mnth_sin -0.764461  2.220446e-17  ...  1.000000e+00  6.846375e-17\n",
              "mnth_cos -0.204837 -1.480297e-17  ...  6.846375e-17  1.000000e+00\n",
              "\n",
              "[6 rows x 6 columns]"
            ]
          },
          "metadata": {
            "tags": []
          },
          "execution_count": 8
        }
      ]
    },
    {
      "cell_type": "code",
      "metadata": {
        "id": "DYMQiqwfNA9v"
      },
      "source": [
        "X = df[['mnth_sin','mnth_cos','Total_TA']]\n",
        "y = df[['PA']]"
      ],
      "execution_count": null,
      "outputs": []
    },
    {
      "cell_type": "code",
      "metadata": {
        "id": "GteN9n982Oxm"
      },
      "source": [
        "X_train = df[['mnth_sin','mnth_cos','Total_TA']][:int(0.80*(len(X)))]\n",
        "y_train = df[['PA']][:int(0.80*(len(y)))]\n",
        "X_test = df[['mnth_sin','mnth_cos','Total_TA']][int(0.80*(len(X))):]\n",
        "y_test = df[['PA']][int(0.80*(len(y))):]"
      ],
      "execution_count": null,
      "outputs": []
    },
    {
      "cell_type": "code",
      "metadata": {
        "id": "FUjj61ua3cvf",
        "colab": {
          "base_uri": "https://localhost:8080/",
          "height": 1000
        },
        "outputId": "9e2f1f66-f87d-409e-8ebd-9545006872bc"
      },
      "source": [
        "print(X_train)\n",
        "print(X_test)\n",
        "print(y_train)\n",
        "print(y_test)"
      ],
      "execution_count": null,
      "outputs": [
        {
          "output_type": "stream",
          "text": [
            "        mnth_sin      mnth_cos  Total_TA\n",
            "0   0.000000e+00  1.000000e+00       118\n",
            "1   5.000000e-01  8.660254e-01       110\n",
            "2   8.660254e-01  5.000000e-01       144\n",
            "3   1.000000e+00  6.123234e-17       112\n",
            "4   8.660254e-01 -5.000000e-01       166\n",
            "5   5.000000e-01 -8.660254e-01       165\n",
            "6   1.224647e-16 -1.000000e+00       164\n",
            "7  -5.000000e-01 -8.660254e-01       134\n",
            "8  -8.660254e-01 -5.000000e-01       281\n",
            "9  -1.000000e+00 -1.836970e-16       194\n",
            "10 -8.660254e-01  5.000000e-01       147\n",
            "11 -5.000000e-01  8.660254e-01       222\n",
            "12  0.000000e+00  1.000000e+00       143\n",
            "13  5.000000e-01  8.660254e-01       148\n",
            "14  8.660254e-01  5.000000e-01       209\n",
            "15  1.000000e+00  6.123234e-17       162\n",
            "16  8.660254e-01 -5.000000e-01       142\n",
            "17  5.000000e-01 -8.660254e-01       218\n",
            "18  1.224647e-16 -1.000000e+00       178\n",
            "19 -5.000000e-01 -8.660254e-01       209\n",
            "20 -8.660254e-01 -5.000000e-01       320\n",
            "21 -1.000000e+00 -1.836970e-16       155\n",
            "22 -8.660254e-01  5.000000e-01       447\n",
            "23 -5.000000e-01  8.660254e-01       265\n",
            "24  0.000000e+00  1.000000e+00       189\n",
            "25  5.000000e-01  8.660254e-01        38\n",
            "26  8.660254e-01  5.000000e-01        86\n",
            "27  1.000000e+00  6.123234e-17       275\n",
            "28  8.660254e-01 -5.000000e-01        99\n",
            "29  5.000000e-01 -8.660254e-01       316\n",
            "30  1.224647e-16 -1.000000e+00       240\n",
            "31 -5.000000e-01 -8.660254e-01       294\n",
            "32 -8.660254e-01 -5.000000e-01       251\n",
            "33 -1.000000e+00 -1.836970e-16       177\n",
            "34 -8.660254e-01  5.000000e-01       286\n",
            "35 -5.000000e-01  8.660254e-01       217\n",
            "36  0.000000e+00  1.000000e+00       173\n",
            "37  5.000000e-01  8.660254e-01       226\n",
            "38  8.660254e-01  5.000000e-01       338\n",
            "39  1.000000e+00  6.123234e-17       285\n",
            "40  8.660254e-01 -5.000000e-01       300\n",
            "41  5.000000e-01 -8.660254e-01       387\n",
            "42  1.224647e-16 -1.000000e+00       220\n",
            "43 -5.000000e-01 -8.660254e-01       399\n",
            "44 -8.660254e-01 -5.000000e-01       372\n",
            "45 -1.000000e+00 -1.836970e-16       104\n",
            "46 -8.660254e-01  5.000000e-01       443\n",
            "47 -5.000000e-01  8.660254e-01       304\n",
            "        mnth_sin      mnth_cos  Total_TA\n",
            "48  0.000000e+00  1.000000e+00       253\n",
            "49  5.000000e-01  8.660254e-01       339\n",
            "50  8.660254e-01  5.000000e-01       348\n",
            "51  1.000000e+00  6.123234e-17       293\n",
            "52  8.660254e-01 -5.000000e-01       280\n",
            "53  5.000000e-01 -8.660254e-01       678\n",
            "54  1.224647e-16 -1.000000e+00       368\n",
            "55 -5.000000e-01 -8.660254e-01       459\n",
            "56 -8.660254e-01 -5.000000e-01       346\n",
            "57 -1.000000e+00 -1.836970e-16       237\n",
            "58 -8.660254e-01  5.000000e-01       290\n",
            "59 -5.000000e-01  8.660254e-01       355\n",
            "    PA\n",
            "0    9\n",
            "1    3\n",
            "2    0\n",
            "3    1\n",
            "4    3\n",
            "5    1\n",
            "6    6\n",
            "7    7\n",
            "8    7\n",
            "9    2\n",
            "10   4\n",
            "11   5\n",
            "12   4\n",
            "13   8\n",
            "14   1\n",
            "15   2\n",
            "16   2\n",
            "17  10\n",
            "18   4\n",
            "19   7\n",
            "20   4\n",
            "21  11\n",
            "22  14\n",
            "23  12\n",
            "24   7\n",
            "25   4\n",
            "26   8\n",
            "27  10\n",
            "28   3\n",
            "29  11\n",
            "30  17\n",
            "31  25\n",
            "32  15\n",
            "33   5\n",
            "34  29\n",
            "35  14\n",
            "36  10\n",
            "37  12\n",
            "38  11\n",
            "39  12\n",
            "40   7\n",
            "41  23\n",
            "42  17\n",
            "43  21\n",
            "44   9\n",
            "45   6\n",
            "46  11\n",
            "47  15\n",
            "    PA\n",
            "48  11\n",
            "49  24\n",
            "50  13\n",
            "51   5\n",
            "52   6\n",
            "53  24\n",
            "54  33\n",
            "55  33\n",
            "56  15\n",
            "57  13\n",
            "58  11\n",
            "59   9\n"
          ],
          "name": "stdout"
        }
      ]
    },
    {
      "cell_type": "code",
      "metadata": {
        "id": "K91QkRgJalVa"
      },
      "source": [
        "#from sklearn.model_selection import train_test_split\n",
        "#X_train, X_test, y_train, y_test = train_test_split(X,y, test_size = 0.15, random_state=1)\n"
      ],
      "execution_count": null,
      "outputs": []
    },
    {
      "cell_type": "code",
      "metadata": {
        "id": "z7iU7Ewcbmo8",
        "colab": {
          "base_uri": "https://localhost:8080/",
          "height": 548
        },
        "outputId": "a0db3aa9-48f4-4257-84a3-68e17161254c"
      },
      "source": [
        "from matplotlib.pyplot import figure\n",
        "figure(num=None, figsize=(10, 6), dpi=100, facecolor='w', edgecolor='k')\n",
        "y_train.plot()\n",
        "y_test.plot()"
      ],
      "execution_count": null,
      "outputs": [
        {
          "output_type": "execute_result",
          "data": {
            "text/plain": [
              "<matplotlib.axes._subplots.AxesSubplot at 0x7ff877b51278>"
            ]
          },
          "metadata": {
            "tags": []
          },
          "execution_count": 12
        },
        {
          "output_type": "display_data",
          "data": {
            "text/plain": [
              "<Figure size 1000x600 with 0 Axes>"
            ]
          },
          "metadata": {
            "tags": []
          }
        },
        {
          "output_type": "display_data",
          "data": {
            "image/png": "[encoded data removed]",
            "text/plain": [
              "<Figure size 432x288 with 1 Axes>"
            ]
          },
          "metadata": {
            "tags": [],
            "needs_background": "light"
          }
        },
        {
          "output_type": "display_data",
          "data": {
            "image/png": "[encoded data removed]",
            "text/plain": [
              "<Figure size 432x288 with 1 Axes>"
            ]
          },
          "metadata": {
            "tags": [],
            "needs_background": "light"
          }
        }
      ]
    },
    {
      "cell_type": "code",
      "metadata": {
        "id": "d-k4XELzcCSu",
        "colab": {
          "base_uri": "https://localhost:8080/",
          "height": 218
        },
        "outputId": "5997896d-23b8-43b0-9038-ba356aaf04a7"
      },
      "source": [
        "from sklearn.linear_model import LinearRegression\n",
        "model1 = LinearRegression()\n",
        "\n",
        "model1.fit(X_train, y_train)\n",
        "predict1 = model1.predict(X_test)\n",
        "predict1 = np.reshape(predict1,(12,1))\n",
        "predict1"
      ],
      "execution_count": null,
      "outputs": [
        {
          "output_type": "execute_result",
          "data": {
            "text/plain": [
              "array([[ 9.92872832],\n",
              "       [12.47730328],\n",
              "       [12.40717228],\n",
              "       [10.30684921],\n",
              "       [10.11284841],\n",
              "       [25.3892978 ],\n",
              "       [14.61886019],\n",
              "       [18.61348837],\n",
              "       [14.83902544],\n",
              "       [10.87671961],\n",
              "       [12.54941038],\n",
              "       [14.38879746]])"
            ]
          },
          "metadata": {
            "tags": []
          },
          "execution_count": 13
        }
      ]
    },
    {
      "cell_type": "code",
      "metadata": {
        "id": "YFjxDAxorw1T",
        "colab": {
          "base_uri": "https://localhost:8080/",
          "height": 101
        },
        "outputId": "15adb601-06ee-40b6-9812-5f29b5a5b4ba"
      },
      "source": [
        "print(\"Linear Regression\")\n",
        "from sklearn import metrics\n",
        "print(\"Accuracy:\",metrics.explained_variance_score(y_test, predict1))\n",
        "print(\"MAE: \", metrics.mean_absolute_error(y_test, predict1))\n",
        "print(\"MSE: \", metrics.mean_squared_error(y_test, predict1))\n",
        "print(\"RMSE: \", np.sqrt(metrics.mean_squared_error(y_test, predict1)))"
      ],
      "execution_count": null,
      "outputs": [
        {
          "output_type": "stream",
          "text": [
            "Linear Regression\n",
            "Accuracy: 0.34355794517433724\n",
            "MAE:  5.498825479911981\n",
            "MSE:  63.50766556395839\n",
            "RMSE:  7.969169691000336\n"
          ],
          "name": "stdout"
        }
      ]
    },
    {
      "cell_type": "code",
      "metadata": {
        "id": "ZvKStZYLS3OU"
      },
      "source": [
        "\n",
        "from sklearn.svm import SVR\n",
        "from sklearn.pipeline import make_pipeline\n",
        "from sklearn.preprocessing import StandardScaler\n",
        "regr = make_pipeline(StandardScaler(), SVR(C=30.0, epsilon=0.1))\n",
        "regr.fit(X_train, y_train.values.ravel())\n",
        "predict2 = regr.predict(X_test)\n",
        "predict2 = np.reshape(predict2,(12,1))"
      ],
      "execution_count": null,
      "outputs": []
    },
    {
      "cell_type": "code",
      "metadata": {
        "id": "13Bix_57S18B",
        "colab": {
          "base_uri": "https://localhost:8080/",
          "height": 101
        },
        "outputId": "03aaf1a8-f897-4dac-9921-61dd3856cb11"
      },
      "source": [
        "print(\"Support Vector Regression\")\n",
        "from sklearn import metrics\n",
        "print(\"Accuracy:\",metrics.explained_variance_score(y_test, predict2))\n",
        "print(\"MAE: \", metrics.mean_absolute_error(y_test, predict2))\n",
        "print(\"MSE: \", metrics.mean_squared_error(y_test, predict2))\n",
        "print(\"RMSE: \", np.sqrt(metrics.mean_squared_error(y_test, predict2)))"
      ],
      "execution_count": null,
      "outputs": [
        {
          "output_type": "stream",
          "text": [
            "Support Vector Regression\n",
            "Accuracy: 0.43589418349837084\n",
            "MAE:  6.585223372933181\n",
            "MSE:  59.199070651978126\n",
            "RMSE:  7.694093231302706\n"
          ],
          "name": "stdout"
        }
      ]
    },
    {
      "cell_type": "code",
      "metadata": {
        "id": "cdPGZAHCDVbM",
        "colab": {
          "base_uri": "https://localhost:8080/",
          "height": 487
        },
        "outputId": "5af6f5da-07ef-4582-fc82-4154bd229e4a"
      },
      "source": [
        "pip install pmdarima "
      ],
      "execution_count": null,
      "outputs": [
        {
          "output_type": "stream",
          "text": [
            "Collecting pmdarima\n",
            "\u001b[?25l  Downloading https://files.pythonhosted.org/packages/be/62/725b3b6ae0e56c77534de5a8139322e7b863ca53fd5bd6bd3b7de87d0c20/pmdarima-1.7.1-cp36-cp36m-manylinux1_x86_64.whl (1.5MB)\n",
            "\u001b[K     |████████████████████████████████| 1.5MB 2.8MB/s \n",
            "\u001b[?25hRequirement already satisfied: scipy>=1.3.2 in /usr/local/lib/python3.6/dist-packages (from pmdarima) (1.4.1)\n",
            "Requirement already satisfied: joblib>=0.11 in /usr/local/lib/python3.6/dist-packages (from pmdarima) (0.16.0)\n",
            "Requirement already satisfied: setuptools<50.0.0 in /usr/local/lib/python3.6/dist-packages (from pmdarima) (49.6.0)\n",
            "Requirement already satisfied: scikit-learn>=0.22 in /usr/local/lib/python3.6/dist-packages (from pmdarima) (0.22.2.post1)\n",
            "Collecting statsmodels<0.12,>=0.11\n",
            "\u001b[?25l  Downloading https://files.pythonhosted.org/packages/cb/83/540fd83238a18abe6c2d280fa8e489ac5fcefa1f370f0ca1acd16ae1b860/statsmodels-0.11.1-cp36-cp36m-manylinux1_x86_64.whl (8.7MB)\n",
            "\u001b[K     |████████████████████████████████| 8.7MB 16.2MB/s \n",
            "\u001b[?25hRequirement already satisfied: urllib3 in /usr/local/lib/python3.6/dist-packages (from pmdarima) (1.24.3)\n",
            "Requirement already satisfied: numpy>=1.17.3 in /usr/local/lib/python3.6/dist-packages (from pmdarima) (1.18.5)\n",
            "Requirement already satisfied: pandas>=0.19 in /usr/local/lib/python3.6/dist-packages (from pmdarima) (1.0.5)\n",
            "Collecting Cython<0.29.18,>=0.29\n",
            "\u001b[?25l  Downloading https://files.pythonhosted.org/packages/e7/d7/510ddef0248f3e1e91f9cc7e31c0f35f8954d0af92c5c3fd4c853e859ebe/Cython-0.29.17-cp36-cp36m-manylinux1_x86_64.whl (2.1MB)\n",
            "\u001b[K     |████████████████████████████████| 2.1MB 30.8MB/s \n",
            "\u001b[?25hRequirement already satisfied: patsy>=0.5 in /usr/local/lib/python3.6/dist-packages (from statsmodels<0.12,>=0.11->pmdarima) (0.5.1)\n",
            "Requirement already satisfied: pytz>=2017.2 in /usr/local/lib/python3.6/dist-packages (from pandas>=0.19->pmdarima) (2018.9)\n",
            "Requirement already satisfied: python-dateutil>=2.6.1 in /usr/local/lib/python3.6/dist-packages (from pandas>=0.19->pmdarima) (2.8.1)\n",
            "Requirement already satisfied: six in /usr/local/lib/python3.6/dist-packages (from patsy>=0.5->statsmodels<0.12,>=0.11->pmdarima) (1.15.0)\n",
            "Installing collected packages: statsmodels, Cython, pmdarima\n",
            "  Found existing installation: statsmodels 0.10.2\n",
            "    Uninstalling statsmodels-0.10.2:\n",
            "      Successfully uninstalled statsmodels-0.10.2\n",
            "  Found existing installation: Cython 0.29.21\n",
            "    Uninstalling Cython-0.29.21:\n",
            "      Successfully uninstalled Cython-0.29.21\n",
            "Successfully installed Cython-0.29.17 pmdarima-1.7.1 statsmodels-0.11.1\n"
          ],
          "name": "stdout"
        }
      ]
    },
    {
      "cell_type": "code",
      "metadata": {
        "id": "xwwYvtguTTt-",
        "colab": {
          "base_uri": "https://localhost:8080/",
          "height": 34
        },
        "outputId": "6837dd95-5b27-4a60-fbdb-e5a8c4cbdc34"
      },
      "source": [
        "from pmdarima.arima import ADFTest\n",
        "adf_test = ADFTest(alpha = 0.05)\n",
        "adf_test.should_diff(df['PA'])"
      ],
      "execution_count": null,
      "outputs": [
        {
          "output_type": "execute_result",
          "data": {
            "text/plain": [
              "(0.01, False)"
            ]
          },
          "metadata": {
            "tags": []
          },
          "execution_count": 17
        }
      ]
    },
    {
      "cell_type": "code",
      "metadata": {
        "id": "3AOUZt7FTzaX",
        "colab": {
          "base_uri": "https://localhost:8080/",
          "height": 530
        },
        "outputId": "3a106256-77eb-471a-ef71-9b71cafc654d"
      },
      "source": [
        "pa = df['PA']\n",
        "train = pa[:int(0.80*(len(pa)))]\n",
        "valid = pa[int(0.80*(len(pa))):]\n",
        "\n",
        "from matplotlib.pyplot import figure\n",
        "figure(num=None, figsize=(10,6), dpi=100, facecolor='w', edgecolor='k')\n",
        "train.plot()\n",
        "valid.plot()"
      ],
      "execution_count": null,
      "outputs": [
        {
          "output_type": "execute_result",
          "data": {
            "text/plain": [
              "<matplotlib.axes._subplots.AxesSubplot at 0x7ff869d22208>"
            ]
          },
          "metadata": {
            "tags": []
          },
          "execution_count": 18
        },
        {
          "output_type": "display_data",
          "data": {
            "image/png": "[encoded data removed]",
            "text/plain": [
              "<Figure size 1000x600 with 1 Axes>"
            ]
          },
          "metadata": {
            "tags": []
          }
        }
      ]
    },
    {
      "cell_type": "code",
      "metadata": {
        "id": "9HHnRL2_VHJd",
        "colab": {
          "base_uri": "https://localhost:8080/",
          "height": 1000
        },
        "outputId": "565a4e8c-ab06-4a40-de63-f25bf4551029"
      },
      "source": [
        "from pmdarima.arima import auto_arima\n",
        "model = auto_arima(train, start_p=0, d=1, start_q=0, max_p=5, max_d=5, max_q=5, start_P=0, start_Q=0, max_P=5, max_D=5, max_Q=5, m=12, seasonal=True, trace=True, error_action='ignore', suppress_warnings=True, stepwise=True, random_state=1)\n",
        "model.fit(train)\n",
        "\n",
        "forecast = model.predict(n_periods=len(valid))\n",
        "forecast = pd.DataFrame(forecast, index = valid.index, columns=['Prediction'])\n",
        "\n",
        "figure(num=None, figsize=(10,6), dpi=100, facecolor='w', edgecolor='k')\n",
        "plt.plot(train, label='Train')\n",
        "plt.plot(valid, label='Valid')\n",
        "plt.plot(forecast, label='Prediction')\n",
        "plt.legend(loc='upper left')\n",
        "plt.show()"
      ],
      "execution_count": null,
      "outputs": [
        {
          "output_type": "stream",
          "text": [
            "Performing stepwise search to minimize aic\n",
            " ARIMA(0,1,0)(0,0,0)[12] intercept   : AIC=317.570, Time=0.05 sec\n",
            " ARIMA(1,1,0)(1,0,0)[12] intercept   : AIC=311.947, Time=0.11 sec\n",
            " ARIMA(0,1,1)(0,0,1)[12] intercept   : AIC=inf, Time=0.37 sec\n",
            " ARIMA(0,1,0)(0,0,0)[12]             : AIC=315.587, Time=0.01 sec\n",
            " ARIMA(1,1,0)(0,0,0)[12] intercept   : AIC=312.353, Time=0.03 sec\n",
            " ARIMA(1,1,0)(2,0,0)[12] intercept   : AIC=312.953, Time=0.35 sec\n",
            " ARIMA(1,1,0)(1,0,1)[12] intercept   : AIC=313.239, Time=0.19 sec\n",
            " ARIMA(1,1,0)(0,0,1)[12] intercept   : AIC=312.435, Time=0.14 sec\n",
            " ARIMA(1,1,0)(2,0,1)[12] intercept   : AIC=inf, Time=1.36 sec\n",
            " ARIMA(0,1,0)(1,0,0)[12] intercept   : AIC=317.987, Time=0.09 sec\n",
            " ARIMA(2,1,0)(1,0,0)[12] intercept   : AIC=309.438, Time=0.16 sec\n",
            " ARIMA(2,1,0)(0,0,0)[12] intercept   : AIC=309.809, Time=0.06 sec\n",
            " ARIMA(2,1,0)(2,0,0)[12] intercept   : AIC=310.228, Time=0.46 sec\n",
            " ARIMA(2,1,0)(1,0,1)[12] intercept   : AIC=310.650, Time=0.31 sec\n",
            " ARIMA(2,1,0)(0,0,1)[12] intercept   : AIC=309.970, Time=0.15 sec\n",
            " ARIMA(2,1,0)(2,0,1)[12] intercept   : AIC=inf, Time=1.69 sec\n",
            " ARIMA(3,1,0)(1,0,0)[12] intercept   : AIC=305.894, Time=0.21 sec\n",
            " ARIMA(3,1,0)(0,0,0)[12] intercept   : AIC=307.159, Time=0.07 sec\n",
            " ARIMA(3,1,0)(2,0,0)[12] intercept   : AIC=306.933, Time=0.62 sec\n",
            " ARIMA(3,1,0)(1,0,1)[12] intercept   : AIC=307.060, Time=0.39 sec\n",
            " ARIMA(3,1,0)(0,0,1)[12] intercept   : AIC=306.607, Time=0.22 sec\n",
            " ARIMA(3,1,0)(2,0,1)[12] intercept   : AIC=inf, Time=1.91 sec\n",
            " ARIMA(4,1,0)(1,0,0)[12] intercept   : AIC=307.421, Time=0.26 sec\n",
            " ARIMA(3,1,1)(1,0,0)[12] intercept   : AIC=inf, Time=0.64 sec\n",
            " ARIMA(2,1,1)(1,0,0)[12] intercept   : AIC=inf, Time=0.68 sec\n",
            " ARIMA(4,1,1)(1,0,0)[12] intercept   : AIC=inf, Time=0.89 sec\n",
            " ARIMA(3,1,0)(1,0,0)[12]             : AIC=303.937, Time=0.10 sec\n",
            " ARIMA(3,1,0)(0,0,0)[12]             : AIC=305.337, Time=0.04 sec\n",
            " ARIMA(3,1,0)(2,0,0)[12]             : AIC=304.961, Time=0.31 sec\n",
            " ARIMA(3,1,0)(1,0,1)[12]             : AIC=305.101, Time=0.28 sec\n",
            " ARIMA(3,1,0)(0,0,1)[12]             : AIC=304.682, Time=0.12 sec\n",
            " ARIMA(3,1,0)(2,0,1)[12]             : AIC=inf, Time=1.82 sec\n",
            " ARIMA(2,1,0)(1,0,0)[12]             : AIC=307.463, Time=0.09 sec\n",
            " ARIMA(4,1,0)(1,0,0)[12]             : AIC=305.492, Time=0.17 sec\n",
            " ARIMA(3,1,1)(1,0,0)[12]             : AIC=303.734, Time=0.21 sec\n",
            " ARIMA(3,1,1)(0,0,0)[12]             : AIC=304.540, Time=0.07 sec\n",
            " ARIMA(3,1,1)(2,0,0)[12]             : AIC=305.119, Time=0.48 sec\n",
            " ARIMA(3,1,1)(1,0,1)[12]             : AIC=305.289, Time=0.44 sec\n",
            " ARIMA(3,1,1)(0,0,1)[12]             : AIC=304.233, Time=0.19 sec\n",
            " ARIMA(3,1,1)(2,0,1)[12]             : AIC=inf, Time=1.93 sec\n",
            " ARIMA(2,1,1)(1,0,0)[12]             : AIC=302.033, Time=0.16 sec\n",
            " ARIMA(2,1,1)(0,0,0)[12]             : AIC=302.769, Time=0.06 sec\n",
            " ARIMA(2,1,1)(2,0,0)[12]             : AIC=303.368, Time=0.36 sec\n",
            " ARIMA(2,1,1)(1,0,1)[12]             : AIC=303.567, Time=0.30 sec\n",
            " ARIMA(2,1,1)(0,0,1)[12]             : AIC=302.531, Time=0.16 sec\n",
            " ARIMA(2,1,1)(2,0,1)[12]             : AIC=inf, Time=1.56 sec\n",
            " ARIMA(1,1,1)(1,0,0)[12]             : AIC=300.361, Time=0.12 sec\n",
            " ARIMA(1,1,1)(0,0,0)[12]             : AIC=301.189, Time=0.05 sec\n",
            " ARIMA(1,1,1)(2,0,0)[12]             : AIC=301.760, Time=0.37 sec\n",
            " ARIMA(1,1,1)(1,0,1)[12]             : AIC=301.921, Time=0.24 sec\n",
            " ARIMA(1,1,1)(0,0,1)[12]             : AIC=300.853, Time=0.17 sec\n",
            " ARIMA(1,1,1)(2,0,1)[12]             : AIC=inf, Time=1.38 sec\n",
            " ARIMA(0,1,1)(1,0,0)[12]             : AIC=298.598, Time=0.07 sec\n",
            " ARIMA(0,1,1)(0,0,0)[12]             : AIC=299.660, Time=0.03 sec\n",
            " ARIMA(0,1,1)(2,0,0)[12]             : AIC=300.117, Time=0.21 sec\n",
            " ARIMA(0,1,1)(1,0,1)[12]             : AIC=300.213, Time=0.13 sec\n",
            " ARIMA(0,1,1)(0,0,1)[12]             : AIC=299.094, Time=0.07 sec\n",
            " ARIMA(0,1,1)(2,0,1)[12]             : AIC=inf, Time=1.11 sec\n",
            " ARIMA(0,1,0)(1,0,0)[12]             : AIC=315.994, Time=0.04 sec\n",
            " ARIMA(0,1,2)(1,0,0)[12]             : AIC=300.311, Time=0.11 sec\n",
            " ARIMA(1,1,0)(1,0,0)[12]             : AIC=309.959, Time=0.07 sec\n",
            " ARIMA(1,1,2)(1,0,0)[12]             : AIC=302.270, Time=0.23 sec\n",
            " ARIMA(0,1,1)(1,0,0)[12] intercept   : AIC=inf, Time=0.26 sec\n",
            "\n",
            "Best model:  ARIMA(0,1,1)(1,0,0)[12]          \n",
            "Total fit time: 24.993 seconds\n"
          ],
          "name": "stdout"
        },
        {
          "output_type": "display_data",
          "data": {
            "image/png": "[encoded data removed]",
            "text/plain": [
              "<Figure size 1000x600 with 1 Axes>"
            ]
          },
          "metadata": {
            "tags": []
          }
        }
      ]
    },
    {
      "cell_type": "code",
      "metadata": {
        "id": "8Kli3orbXwFG",
        "colab": {
          "base_uri": "https://localhost:8080/",
          "height": 101
        },
        "outputId": "648dc846-63b9-4ffa-ed60-e6c8c40aa904"
      },
      "source": [
        "print(\"Arima\")\n",
        "from sklearn import metrics\n",
        "print(\"Accuracy:\",metrics.explained_variance_score(valid, forecast))\n",
        "print(\"MAE: \", metrics.mean_absolute_error(valid, forecast))\n",
        "print(\"MSE: \", metrics.mean_squared_error(valid, forecast))\n",
        "print(\"RMSE: \", np.sqrt(metrics.mean_squared_error(valid, forecast)))"
      ],
      "execution_count": null,
      "outputs": [
        {
          "output_type": "stream",
          "text": [
            "Arima\n",
            "Accuracy: 0.17569887529445594\n",
            "MAE:  6.946390099576235\n",
            "MSE:  87.59093933675933\n",
            "RMSE:  9.359003116612332\n"
          ],
          "name": "stdout"
        }
      ]
    },
    {
      "cell_type": "code",
      "metadata": {
        "id": "a_LmFowLaM1l",
        "colab": {
          "base_uri": "https://localhost:8080/",
          "height": 218
        },
        "outputId": "2bb5e0e5-587c-473f-ab8f-219ecf55cff8"
      },
      "source": [
        "predict3 = forecast\n",
        "np.reshape(predict1,(12,1))\n",
        "np.reshape(predict2,(12,1))"
      ],
      "execution_count": null,
      "outputs": [
        {
          "output_type": "execute_result",
          "data": {
            "text/plain": [
              "array([[12.184554  ],\n",
              "       [12.6423532 ],\n",
              "       [11.03281133],\n",
              "       [10.74450395],\n",
              "       [11.45648258],\n",
              "       [11.69359562],\n",
              "       [27.43469788],\n",
              "       [20.12727035],\n",
              "       [ 8.30507021],\n",
              "       [ 5.11597348],\n",
              "       [11.36619761],\n",
              "       [16.62271443]])"
            ]
          },
          "metadata": {
            "tags": []
          },
          "execution_count": 21
        }
      ]
    },
    {
      "cell_type": "code",
      "metadata": {
        "id": "vUTwL4SsJSey",
        "colab": {
          "base_uri": "https://localhost:8080/",
          "height": 638
        },
        "outputId": "fe62b3d5-23ed-4d1b-a91d-1675a35f2a33"
      },
      "source": [
        "print(predict1)\n",
        "print(predict2)\n",
        "print(predict3)"
      ],
      "execution_count": null,
      "outputs": [
        {
          "output_type": "stream",
          "text": [
            "[[ 9.92872832]\n",
            " [12.47730328]\n",
            " [12.40717228]\n",
            " [10.30684921]\n",
            " [10.11284841]\n",
            " [25.3892978 ]\n",
            " [14.61886019]\n",
            " [18.61348837]\n",
            " [14.83902544]\n",
            " [10.87671961]\n",
            " [12.54941038]\n",
            " [14.38879746]]\n",
            "[[12.184554  ]\n",
            " [12.6423532 ]\n",
            " [11.03281133]\n",
            " [10.74450395]\n",
            " [11.45648258]\n",
            " [11.69359562]\n",
            " [27.43469788]\n",
            " [20.12727035]\n",
            " [ 8.30507021]\n",
            " [ 5.11597348]\n",
            " [11.36619761]\n",
            " [16.62271443]]\n",
            "    Prediction\n",
            "48   11.681304\n",
            "49   12.204696\n",
            "50   11.943000\n",
            "51   12.204696\n",
            "52   10.896215\n",
            "53   15.083356\n",
            "54   13.513178\n",
            "55   14.559963\n",
            "56   11.419607\n",
            "57   10.634519\n",
            "58   11.943000\n",
            "59   12.989785\n"
          ],
          "name": "stdout"
        }
      ]
    },
    {
      "cell_type": "code",
      "metadata": {
        "id": "WX-LSbNybci_",
        "colab": {
          "base_uri": "https://localhost:8080/",
          "height": 336
        },
        "outputId": "338d7994-a62e-4168-c9f8-af51d3952cbc"
      },
      "source": [
        "print(\"Simple Average\")\n",
        "simple_avg = (predict1 + predict2 + predict3)/3\n",
        "print(\"Simple Average prediction results are: \\n\",simple_avg)\n",
        "from sklearn import metrics\n",
        "print(\"Accuracy:\",metrics.explained_variance_score(y_test, simple_avg))\n",
        "print(\"MAE: \", metrics.mean_absolute_error(y_test, simple_avg))\n",
        "print(\"MSE: \", metrics.mean_squared_error(y_test, simple_avg))\n",
        "print(\"RMSE: \", np.sqrt(metrics.mean_squared_error(y_test, simple_avg)))"
      ],
      "execution_count": null,
      "outputs": [
        {
          "output_type": "stream",
          "text": [
            "Simple Average\n",
            "Simple Average prediction results are: \n",
            "     Prediction\n",
            "48   11.264862\n",
            "49   12.441451\n",
            "50   11.794328\n",
            "51   11.085350\n",
            "52   10.821849\n",
            "53   17.388750\n",
            "54   18.522245\n",
            "55   17.766907\n",
            "56   11.521234\n",
            "57    8.875737\n",
            "58   11.952869\n",
            "59   14.667099\n",
            "Accuracy: 0.40856390317792\n",
            "MAE:  6.206781346408143\n",
            "MSE:  61.90850085741251\n",
            "RMSE:  7.868195527400963\n"
          ],
          "name": "stdout"
        }
      ]
    },
    {
      "cell_type": "code",
      "metadata": {
        "id": "qoIg75Tsb-0z",
        "colab": {
          "base_uri": "https://localhost:8080/",
          "height": 336
        },
        "outputId": "d58dfe4a-886d-4e62-82a6-0ce09d5d3dbb"
      },
      "source": [
        "print(\"Weighted Average\")\n",
        "new_predict1 = 0.5938640289176961*predict1\n",
        "new_predict2 = 0.6910911241861789*predict2\n",
        "new_predict3 = 0.005816484003611233*predict3\n",
        "#weighted_avg = (0.5938640289176961*predict1 + 0.6910911241861789*predict2 + 0.005816484003611233*predict3)\n",
        "weighted_avg = (new_predict1 + new_predict2 + new_predict3)\n",
        "print(\"weighted Average prediction results are: \\n\",weighted_avg)\n",
        "from sklearn import metrics\n",
        "print(\"Accuracy:\",metrics.explained_variance_score(y_test, weighted_avg))\n",
        "print(\"MAE: \", metrics.mean_absolute_error(y_test, weighted_avg))\n",
        "print(\"MSE: \", metrics.mean_squared_error(y_test, weighted_avg))\n",
        "print(\"RMSE: \", np.sqrt(metrics.mean_squared_error(y_test, weighted_avg)))"
      ],
      "execution_count": null,
      "outputs": [
        {
          "output_type": "stream",
          "text": [
            "Weighted Average\n",
            "weighted Average prediction results are: \n",
            "     Prediction\n",
            "48   14.384896\n",
            "49   16.217828\n",
            "50   15.062318\n",
            "51   13.617287\n",
            "52   13.986508\n",
            "53   23.246863\n",
            "54   27.720091\n",
            "55   25.048347\n",
            "56   14.618346\n",
            "57   10.056752\n",
            "58   15.377188\n",
            "59   20.108355\n",
            "Accuracy: 0.5738433200261088\n",
            "MAE:  5.2190270398756615\n",
            "MSE:  38.112661927216216\n",
            "RMSE:  6.173545328837897\n"
          ],
          "name": "stdout"
        }
      ]
    },
    {
      "cell_type": "code",
      "metadata": {
        "id": "dAOw2DVDcnb8"
      },
      "source": [
        "# weighted_avg = (predict1 + predict2 + predict3)/3\n",
        "\n",
        "# import random\n",
        "# print(\"Weighted Average\")\n",
        "# while(np.sqrt(metrics.mean_squared_error(y_test, weighted_avg))>6.22):\n",
        "#   a = random.random()\n",
        "#   b = random.random()\n",
        "#   c = random.random()\n",
        "#   weighted_avg = (a*predict1 + b*predict2 + c*predict3)\n",
        "\n",
        "#   if(np.sqrt(metrics.mean_squared_error(y_test, weighted_avg))<6.22):\n",
        "#     print(a,\" \",b,\" \",c)\n",
        "#     break\n",
        "# print(weighted_avg)\n",
        "\n"
      ],
      "execution_count": null,
      "outputs": []
    }
  ]
}